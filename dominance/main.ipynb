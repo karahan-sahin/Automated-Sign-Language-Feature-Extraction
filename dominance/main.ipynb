{
 "cells": [
  {
   "cell_type": "markdown",
   "metadata": {},
   "source": [
    "## Inference - Pose Estimation"
   ]
  },
  {
   "cell_type": "code",
   "execution_count": 1,
   "metadata": {},
   "outputs": [
    {
     "name": "stderr",
     "output_type": "stream",
     "text": [
      "2024-02-21 20:23:00.019912: I tensorflow/tsl/cuda/cudart_stub.cc:28] Could not find cuda drivers on your machine, GPU will not be used.\n",
      "2024-02-21 20:23:00.270410: I tensorflow/tsl/cuda/cudart_stub.cc:28] Could not find cuda drivers on your machine, GPU will not be used.\n",
      "2024-02-21 20:23:00.273779: I tensorflow/core/platform/cpu_feature_guard.cc:182] This TensorFlow binary is optimized to use available CPU instructions in performance-critical operations.\n",
      "To enable the following instructions: AVX2 FMA, in other operations, rebuild TensorFlow with the appropriate compiler flags.\n",
      "2024-02-21 20:23:01.479250: W tensorflow/compiler/tf2tensorrt/utils/py_utils.cc:38] TF-TRT Warning: Could not find TensorRT\n"
     ]
    }
   ],
   "source": [
    "import sys\n",
    "sys.path.append(\"../\")\n",
    "\n",
    "from lib.phonology.handshape import *\n",
    "from lib.phonology.temporal import *\n",
    "from lib.phonology.classifier import *"
   ]
  },
  {
   "cell_type": "code",
   "execution_count": 2,
   "metadata": {},
   "outputs": [
    {
     "name": "stderr",
     "output_type": "stream",
     "text": [
      "  0%|          | 0/3395 [00:00<?, ?it/s]"
     ]
    },
    {
     "name": "stderr",
     "output_type": "stream",
     "text": [
      "INFO: Created TensorFlow Lite XNNPACK delegate for CPU.\n"
     ]
    },
    {
     "name": "stdout",
     "output_type": "stream",
     "text": [
      "../../data/corpus/SAÇMA_0.mp4\n"
     ]
    },
    {
     "name": "stderr",
     "output_type": "stream",
     "text": [
      "  0%|          | 1/3395 [00:02<2:44:23,  2.91s/it]"
     ]
    },
    {
     "name": "stdout",
     "output_type": "stream",
     "text": [
      "outputs/SAÇMA_0.csv\n",
      "../../data/corpus/YÜZME_0.mp4\n"
     ]
    },
    {
     "name": "stderr",
     "output_type": "stream",
     "text": [
      "  0%|          | 2/3395 [00:05<2:49:46,  3.00s/it]"
     ]
    },
    {
     "name": "stdout",
     "output_type": "stream",
     "text": [
      "outputs/YÜZME_0.csv\n",
      "../../data/corpus/ANLAŞMA_1.mp4\n"
     ]
    },
    {
     "name": "stderr",
     "output_type": "stream",
     "text": [
      "  0%|          | 3/3395 [00:09<3:08:47,  3.34s/it]"
     ]
    },
    {
     "name": "stdout",
     "output_type": "stream",
     "text": [
      "outputs/ANLAŞMA_1.csv\n",
      "../../data/corpus/ANLAŞMAK_0.mp4\n"
     ]
    },
    {
     "name": "stderr",
     "output_type": "stream",
     "text": [
      "  0%|          | 4/3395 [00:13<3:12:38,  3.41s/it]"
     ]
    },
    {
     "name": "stdout",
     "output_type": "stream",
     "text": [
      "outputs/ANLAŞMAK_0.csv\n",
      "../../data/corpus/DOLMAK_0.mp4\n"
     ]
    },
    {
     "name": "stderr",
     "output_type": "stream",
     "text": [
      "  0%|          | 5/3395 [00:15<2:55:47,  3.11s/it]"
     ]
    },
    {
     "name": "stdout",
     "output_type": "stream",
     "text": [
      "outputs/DOLMAK_0.csv\n",
      "../../data/corpus/BENCE_0.mp4\n"
     ]
    },
    {
     "name": "stderr",
     "output_type": "stream",
     "text": [
      "  0%|          | 6/3395 [00:18<2:48:39,  2.99s/it]"
     ]
    },
    {
     "name": "stdout",
     "output_type": "stream",
     "text": [
      "outputs/BENCE_0.csv\n",
      "../../data/corpus/MIMAR_0.mp4\n"
     ]
    },
    {
     "name": "stderr",
     "output_type": "stream",
     "text": [
      "  0%|          | 7/3395 [00:21<2:43:06,  2.89s/it]"
     ]
    },
    {
     "name": "stdout",
     "output_type": "stream",
     "text": [
      "outputs/MIMAR_0.csv\n",
      "../../data/corpus/VÜCUT _1.mp4\n"
     ]
    },
    {
     "name": "stderr",
     "output_type": "stream",
     "text": [
      "  0%|          | 8/3395 [00:25<3:14:16,  3.44s/it]"
     ]
    },
    {
     "name": "stdout",
     "output_type": "stream",
     "text": [
      "outputs/VÜCUT _1.csv\n",
      "../../data/corpus/EKIM_1.mp4\n"
     ]
    },
    {
     "name": "stderr",
     "output_type": "stream",
     "text": [
      "  0%|          | 9/3395 [00:28<2:54:35,  3.09s/it]"
     ]
    },
    {
     "name": "stdout",
     "output_type": "stream",
     "text": [
      "outputs/EKIM_1.csv\n",
      "../../data/corpus/NEFIS_0.mp4\n"
     ]
    },
    {
     "name": "stderr",
     "output_type": "stream",
     "text": [
      "  0%|          | 10/3395 [00:31<2:50:22,  3.02s/it]"
     ]
    },
    {
     "name": "stdout",
     "output_type": "stream",
     "text": [
      "outputs/NEFIS_0.csv\n",
      "../../data/corpus/BOŞ VERMEK_0.mp4\n"
     ]
    },
    {
     "name": "stderr",
     "output_type": "stream",
     "text": [
      "  0%|          | 11/3395 [00:33<2:39:56,  2.84s/it]"
     ]
    },
    {
     "name": "stdout",
     "output_type": "stream",
     "text": [
      "outputs/BOŞ VERMEK_0.csv\n",
      "../../data/corpus/TEŞEKKÜR_1.mp4\n"
     ]
    },
    {
     "name": "stderr",
     "output_type": "stream",
     "text": [
      "  0%|          | 12/3395 [00:36<2:41:03,  2.86s/it]"
     ]
    },
    {
     "name": "stdout",
     "output_type": "stream",
     "text": [
      "outputs/TEŞEKKÜR_1.csv\n",
      "../../data/corpus/EL SALLAMAK_0.mp4\n"
     ]
    },
    {
     "name": "stderr",
     "output_type": "stream",
     "text": [
      "  0%|          | 13/3395 [00:38<2:30:19,  2.67s/it]"
     ]
    },
    {
     "name": "stdout",
     "output_type": "stream",
     "text": [
      "outputs/EL SALLAMAK_0.csv\n",
      "../../data/corpus/KAR_0.mp4\n"
     ]
    },
    {
     "name": "stderr",
     "output_type": "stream",
     "text": [
      "  0%|          | 14/3395 [00:42<2:51:57,  3.05s/it]"
     ]
    },
    {
     "name": "stdout",
     "output_type": "stream",
     "text": [
      "outputs/KAR_0.csv\n",
      "../../data/corpus/ŞAMPIYON_0.mp4\n"
     ]
    },
    {
     "name": "stderr",
     "output_type": "stream",
     "text": [
      "  0%|          | 14/3395 [00:44<3:00:21,  3.20s/it]\n"
     ]
    },
    {
     "ename": "KeyboardInterrupt",
     "evalue": "",
     "output_type": "error",
     "traceback": [
      "\u001b[0;31m---------------------------------------------------------------------------\u001b[0m",
      "\u001b[0;31mKeyboardInterrupt\u001b[0m                         Traceback (most recent call last)",
      "\u001b[0;32m/tmp/ipykernel_7583/2643833785.py\u001b[0m in \u001b[0;36m<module>\u001b[0;34m\u001b[0m\n\u001b[1;32m     26\u001b[0m \u001b[0;34m\u001b[0m\u001b[0m\n\u001b[1;32m     27\u001b[0m             \u001b[0mimage\u001b[0m \u001b[0;34m=\u001b[0m \u001b[0mcv2\u001b[0m\u001b[0;34m.\u001b[0m\u001b[0mcvtColor\u001b[0m\u001b[0;34m(\u001b[0m\u001b[0mframe\u001b[0m\u001b[0;34m,\u001b[0m \u001b[0mcv2\u001b[0m\u001b[0;34m.\u001b[0m\u001b[0mCOLOR_BGR2RGB\u001b[0m\u001b[0;34m)\u001b[0m\u001b[0;34m\u001b[0m\u001b[0;34m\u001b[0m\u001b[0m\n\u001b[0;32m---> 28\u001b[0;31m             \u001b[0mresults\u001b[0m \u001b[0;34m=\u001b[0m \u001b[0mholistic\u001b[0m\u001b[0;34m.\u001b[0m\u001b[0mprocess\u001b[0m\u001b[0;34m(\u001b[0m\u001b[0mimage\u001b[0m\u001b[0;34m)\u001b[0m\u001b[0;34m\u001b[0m\u001b[0;34m\u001b[0m\u001b[0m\n\u001b[0m\u001b[1;32m     29\u001b[0m \u001b[0;34m\u001b[0m\u001b[0m\n\u001b[1;32m     30\u001b[0m             \u001b[0mRIGHT\u001b[0m\u001b[0;34m.\u001b[0m\u001b[0mgetJointInfo\u001b[0m\u001b[0;34m(\u001b[0m\u001b[0mresults\u001b[0m\u001b[0;34m.\u001b[0m\u001b[0mright_hand_landmarks\u001b[0m\u001b[0;34m,\u001b[0m \u001b[0mresults\u001b[0m\u001b[0;34m.\u001b[0m\u001b[0mpose_landmarks\u001b[0m\u001b[0;34m,\u001b[0m \u001b[0mPARAMS\u001b[0m\u001b[0;34m)\u001b[0m\u001b[0;34m\u001b[0m\u001b[0;34m\u001b[0m\u001b[0m\n",
      "\u001b[0;32m~/anaconda3/lib/python3.9/site-packages/mediapipe/python/solutions/holistic.py\u001b[0m in \u001b[0;36mprocess\u001b[0;34m(self, image)\u001b[0m\n\u001b[1;32m    158\u001b[0m     \"\"\"\n\u001b[1;32m    159\u001b[0m \u001b[0;34m\u001b[0m\u001b[0m\n\u001b[0;32m--> 160\u001b[0;31m     \u001b[0mresults\u001b[0m \u001b[0;34m=\u001b[0m \u001b[0msuper\u001b[0m\u001b[0;34m(\u001b[0m\u001b[0;34m)\u001b[0m\u001b[0;34m.\u001b[0m\u001b[0mprocess\u001b[0m\u001b[0;34m(\u001b[0m\u001b[0minput_data\u001b[0m\u001b[0;34m=\u001b[0m\u001b[0;34m{\u001b[0m\u001b[0;34m'image'\u001b[0m\u001b[0;34m:\u001b[0m \u001b[0mimage\u001b[0m\u001b[0;34m}\u001b[0m\u001b[0;34m)\u001b[0m\u001b[0;34m\u001b[0m\u001b[0;34m\u001b[0m\u001b[0m\n\u001b[0m\u001b[1;32m    161\u001b[0m     \u001b[0;32mif\u001b[0m \u001b[0mresults\u001b[0m\u001b[0;34m.\u001b[0m\u001b[0mpose_landmarks\u001b[0m\u001b[0;34m:\u001b[0m  \u001b[0;31m# pytype: disable=attribute-error\u001b[0m\u001b[0;34m\u001b[0m\u001b[0;34m\u001b[0m\u001b[0m\n\u001b[1;32m    162\u001b[0m       \u001b[0;32mfor\u001b[0m \u001b[0mlandmark\u001b[0m \u001b[0;32min\u001b[0m \u001b[0mresults\u001b[0m\u001b[0;34m.\u001b[0m\u001b[0mpose_landmarks\u001b[0m\u001b[0;34m.\u001b[0m\u001b[0mlandmark\u001b[0m\u001b[0;34m:\u001b[0m  \u001b[0;31m# pytype: disable=attribute-error\u001b[0m\u001b[0;34m\u001b[0m\u001b[0;34m\u001b[0m\u001b[0m\n",
      "\u001b[0;32m~/anaconda3/lib/python3.9/site-packages/mediapipe/python/solution_base.py\u001b[0m in \u001b[0;36mprocess\u001b[0;34m(self, input_data)\u001b[0m\n\u001b[1;32m    363\u001b[0m                                      data).at(self._simulated_timestamp))\n\u001b[1;32m    364\u001b[0m \u001b[0;34m\u001b[0m\u001b[0m\n\u001b[0;32m--> 365\u001b[0;31m     \u001b[0mself\u001b[0m\u001b[0;34m.\u001b[0m\u001b[0m_graph\u001b[0m\u001b[0;34m.\u001b[0m\u001b[0mwait_until_idle\u001b[0m\u001b[0;34m(\u001b[0m\u001b[0;34m)\u001b[0m\u001b[0;34m\u001b[0m\u001b[0;34m\u001b[0m\u001b[0m\n\u001b[0m\u001b[1;32m    366\u001b[0m     \u001b[0;31m# Create a NamedTuple object where the field names are mapping to the graph\u001b[0m\u001b[0;34m\u001b[0m\u001b[0;34m\u001b[0m\u001b[0m\n\u001b[1;32m    367\u001b[0m     \u001b[0;31m# output stream names.\u001b[0m\u001b[0;34m\u001b[0m\u001b[0;34m\u001b[0m\u001b[0m\n",
      "\u001b[0;31mKeyboardInterrupt\u001b[0m: "
     ]
    }
   ],
   "source": [
    "from glob import glob\n",
    "import cv2\n",
    "from tqdm import tqdm\n",
    "import mediapipe as mp\n",
    "\n",
    "\n",
    "mp_holistic = mp.solutions.holistic\n",
    "\n",
    "for video_path in tqdm(glob('../../data/corpus/*.mp4')):\n",
    "    print(video_path) \n",
    "    \n",
    "    camera = cv2.VideoCapture(video_path)\n",
    "    \n",
    "    PARAMS = ['LOCATION', 'ORIENTATION', 'FINGER_SELECTION', 'Path', 'Spacial', 'Temporal', 'Setting']\n",
    "    LEFT = HandshapePhonology('Left')\n",
    "    RIGHT = HandshapePhonology('Right')\n",
    "    TEMPORAL = TemporalPhonology(PARAMS)\n",
    "\n",
    "    idx = 0\n",
    "        \n",
    "    ret, frame = camera.read()\n",
    "\n",
    "    with mp_holistic.Holistic(min_detection_confidence=0.1, min_tracking_confidence=0.1) as holistic:\n",
    "\n",
    "        while camera.isOpened() and ret == True:\n",
    "\n",
    "            image = cv2.cvtColor(frame, cv2.COLOR_BGR2RGB)\n",
    "            results = holistic.process(image)\n",
    "            \n",
    "            RIGHT.getJointInfo(results.right_hand_landmarks, results.pose_landmarks, PARAMS)\n",
    "            LEFT.getJointInfo(results.left_hand_landmarks, results.pose_landmarks, PARAMS)\n",
    "            INFO = TEMPORAL.getTemporalInformation(LEFT, RIGHT)\n",
    "            \n",
    "            \n",
    "            ret, frame = camera.read()\n",
    "            \n",
    "    fname = video_path.split('/')[-1].split('.')[0]\n",
    "    print(f'outputs/{fname}.csv')\n",
    "    pd.DataFrame.from_records(TEMPORAL.HISTORY).to_csv(f'outputs/{fname}.csv', index=False)\n",
    "\n",
    "            \n",
    "    "
   ]
  },
  {
   "cell_type": "markdown",
   "metadata": {},
   "source": [
    "## Analyze - Dominance"
   ]
  },
  {
   "cell_type": "code",
   "execution_count": null,
   "metadata": {},
   "outputs": [],
   "source": []
  },
  {
   "cell_type": "code",
   "execution_count": 1,
   "metadata": {},
   "outputs": [],
   "source": [
    "import glob\n",
    "\n",
    "import pandas as pd\n",
    "from tqdm import tqdm\n",
    "\n",
    "POSE = glob.glob('outputs/*.csv')"
   ]
  },
  {
   "cell_type": "code",
   "execution_count": 4,
   "metadata": {},
   "outputs": [],
   "source": [
    "dfs = []\n",
    "\n",
    "for doc_name in POSE:\n",
    "    \n",
    "    df = pd.read_csv(doc_name)\n",
    "    \n",
    "    df['LEXICON'] = doc_name.split('/')[1].split('.')[0]\n",
    "    \n",
    "    dfs.append(df)"
   ]
  },
  {
   "cell_type": "code",
   "execution_count": 5,
   "metadata": {},
   "outputs": [],
   "source": [
    "DF_POSE = pd.concat(dfs)"
   ]
  },
  {
   "cell_type": "code",
   "execution_count": 6,
   "metadata": {},
   "outputs": [],
   "source": [
    "COLS = DF_POSE.columns.to_list()\n",
    "COLS.remove('LEXICON')"
   ]
  },
  {
   "cell_type": "code",
   "execution_count": 7,
   "metadata": {},
   "outputs": [],
   "source": [
    "DF_POSE = DF_POSE[['LEXICON']+COLS]"
   ]
  },
  {
   "cell_type": "code",
   "execution_count": 8,
   "metadata": {},
   "outputs": [],
   "source": [
    "import sys\n",
    "sys.path.append(\"../\")\n",
    "from lib.phonology.sign_utils import NUMERICAL\n",
    "\n",
    "COL_SR = pd.Series(NUMERICAL)\n",
    "\n",
    "RIGHT_COLS = COL_SR[COL_SR.apply(lambda x: 'RIGHT' in x)]\n",
    "LEFT_COLS = COL_SR[COL_SR.apply(lambda x: 'LEFT' in x)]"
   ]
  },
  {
   "cell_type": "code",
   "execution_count": 9,
   "metadata": {},
   "outputs": [],
   "source": [
    "def calculateMeanDiff(x): return x.diff().abs().mean()"
   ]
  },
  {
   "cell_type": "code",
   "execution_count": 10,
   "metadata": {},
   "outputs": [
    {
     "name": "stderr",
     "output_type": "stream",
     "text": [
      "/home/karahan/anaconda3/lib/python3.9/site-packages/IPython/lib/pretty.py:700: FutureWarning: In a future version, object-dtype columns with all-bool values will not be included in reductions with bool_only=True. Explicitly cast to bool dtype instead.\n",
      "  output = repr(obj)\n",
      "/home/karahan/anaconda3/lib/python3.9/site-packages/IPython/core/formatters.py:345: FutureWarning: In a future version, object-dtype columns with all-bool values will not be included in reductions with bool_only=True. Explicitly cast to bool dtype instead.\n",
      "  return method()\n"
     ]
    },
    {
     "data": {
      "text/html": [
       "<div>\n",
       "<style scoped>\n",
       "    .dataframe tbody tr th:only-of-type {\n",
       "        vertical-align: middle;\n",
       "    }\n",
       "\n",
       "    .dataframe tbody tr th {\n",
       "        vertical-align: top;\n",
       "    }\n",
       "\n",
       "    .dataframe thead th {\n",
       "        text-align: right;\n",
       "    }\n",
       "</style>\n",
       "<table border=\"1\" class=\"dataframe\">\n",
       "  <thead>\n",
       "    <tr style=\"text-align: right;\">\n",
       "      <th></th>\n",
       "      <th>LEXICON</th>\n",
       "      <th>RIGHT_THUMB_ANGLE_PIP</th>\n",
       "      <th>RIGHT_THUMB_ANGLE_DIP</th>\n",
       "      <th>RIGHT_THUMB_ANGLE_WRST_PIP</th>\n",
       "      <th>RIGHT_THUMB_ANGLE_WRST_DIP</th>\n",
       "      <th>RIGHT_THUMB_ANGLE_PIP_SELECT</th>\n",
       "      <th>RIGHT_THUMB_ANGLE_DIP_SELECT</th>\n",
       "      <th>RIGHT_THUMB_ANGLE_WRST_PIP_SELECT</th>\n",
       "      <th>RIGHT_THUMB_ANGLE_WRST_DIP_SELECT</th>\n",
       "      <th>RIGHT_THUMB_ANGLE_PIP_CURVE</th>\n",
       "      <th>...</th>\n",
       "      <th>IN_FRONT_LABEL</th>\n",
       "      <th>IN_FRONT_SCORE</th>\n",
       "      <th>ABOVE/BELOW_LABEL</th>\n",
       "      <th>ABOVE/BELOW_SCORE</th>\n",
       "      <th>LEFT_SETTING_LABEL</th>\n",
       "      <th>LEFT_SETTING_SCORE</th>\n",
       "      <th>LEFT_REPETITION_LABEL</th>\n",
       "      <th>LEFT_REPETITION_SCORE</th>\n",
       "      <th>LEFT_CURVE_LABEL</th>\n",
       "      <th>LEFT_CURVE_SCORE</th>\n",
       "    </tr>\n",
       "  </thead>\n",
       "  <tbody>\n",
       "    <tr>\n",
       "      <th>0</th>\n",
       "      <td>ARAP_1</td>\n",
       "      <td>NaN</td>\n",
       "      <td>NaN</td>\n",
       "      <td>NaN</td>\n",
       "      <td>NaN</td>\n",
       "      <td>NaN</td>\n",
       "      <td>NaN</td>\n",
       "      <td>NaN</td>\n",
       "      <td>NaN</td>\n",
       "      <td>NaN</td>\n",
       "      <td>...</td>\n",
       "      <td>NaN</td>\n",
       "      <td>NaN</td>\n",
       "      <td>NaN</td>\n",
       "      <td>NaN</td>\n",
       "      <td>NaN</td>\n",
       "      <td>NaN</td>\n",
       "      <td>NaN</td>\n",
       "      <td>NaN</td>\n",
       "      <td>NaN</td>\n",
       "      <td>NaN</td>\n",
       "    </tr>\n",
       "    <tr>\n",
       "      <th>1</th>\n",
       "      <td>ARAP_1</td>\n",
       "      <td>NaN</td>\n",
       "      <td>NaN</td>\n",
       "      <td>NaN</td>\n",
       "      <td>NaN</td>\n",
       "      <td>NaN</td>\n",
       "      <td>NaN</td>\n",
       "      <td>NaN</td>\n",
       "      <td>NaN</td>\n",
       "      <td>NaN</td>\n",
       "      <td>...</td>\n",
       "      <td>NaN</td>\n",
       "      <td>NaN</td>\n",
       "      <td>NaN</td>\n",
       "      <td>NaN</td>\n",
       "      <td>NaN</td>\n",
       "      <td>NaN</td>\n",
       "      <td>NaN</td>\n",
       "      <td>NaN</td>\n",
       "      <td>NaN</td>\n",
       "      <td>NaN</td>\n",
       "    </tr>\n",
       "    <tr>\n",
       "      <th>2</th>\n",
       "      <td>ARAP_1</td>\n",
       "      <td>NaN</td>\n",
       "      <td>NaN</td>\n",
       "      <td>NaN</td>\n",
       "      <td>NaN</td>\n",
       "      <td>NaN</td>\n",
       "      <td>NaN</td>\n",
       "      <td>NaN</td>\n",
       "      <td>NaN</td>\n",
       "      <td>NaN</td>\n",
       "      <td>...</td>\n",
       "      <td>NaN</td>\n",
       "      <td>NaN</td>\n",
       "      <td>NaN</td>\n",
       "      <td>NaN</td>\n",
       "      <td>NaN</td>\n",
       "      <td>NaN</td>\n",
       "      <td>NaN</td>\n",
       "      <td>NaN</td>\n",
       "      <td>NaN</td>\n",
       "      <td>NaN</td>\n",
       "    </tr>\n",
       "    <tr>\n",
       "      <th>3</th>\n",
       "      <td>ARAP_1</td>\n",
       "      <td>NaN</td>\n",
       "      <td>NaN</td>\n",
       "      <td>NaN</td>\n",
       "      <td>NaN</td>\n",
       "      <td>NaN</td>\n",
       "      <td>NaN</td>\n",
       "      <td>NaN</td>\n",
       "      <td>NaN</td>\n",
       "      <td>NaN</td>\n",
       "      <td>...</td>\n",
       "      <td>NaN</td>\n",
       "      <td>NaN</td>\n",
       "      <td>NaN</td>\n",
       "      <td>NaN</td>\n",
       "      <td>NaN</td>\n",
       "      <td>NaN</td>\n",
       "      <td>NaN</td>\n",
       "      <td>NaN</td>\n",
       "      <td>NaN</td>\n",
       "      <td>NaN</td>\n",
       "    </tr>\n",
       "    <tr>\n",
       "      <th>4</th>\n",
       "      <td>ARAP_1</td>\n",
       "      <td>NaN</td>\n",
       "      <td>NaN</td>\n",
       "      <td>NaN</td>\n",
       "      <td>NaN</td>\n",
       "      <td>NaN</td>\n",
       "      <td>NaN</td>\n",
       "      <td>NaN</td>\n",
       "      <td>NaN</td>\n",
       "      <td>NaN</td>\n",
       "      <td>...</td>\n",
       "      <td>NaN</td>\n",
       "      <td>NaN</td>\n",
       "      <td>NaN</td>\n",
       "      <td>NaN</td>\n",
       "      <td>NaN</td>\n",
       "      <td>NaN</td>\n",
       "      <td>NaN</td>\n",
       "      <td>NaN</td>\n",
       "      <td>NaN</td>\n",
       "      <td>NaN</td>\n",
       "    </tr>\n",
       "    <tr>\n",
       "      <th>...</th>\n",
       "      <td>...</td>\n",
       "      <td>...</td>\n",
       "      <td>...</td>\n",
       "      <td>...</td>\n",
       "      <td>...</td>\n",
       "      <td>...</td>\n",
       "      <td>...</td>\n",
       "      <td>...</td>\n",
       "      <td>...</td>\n",
       "      <td>...</td>\n",
       "      <td>...</td>\n",
       "      <td>...</td>\n",
       "      <td>...</td>\n",
       "      <td>...</td>\n",
       "      <td>...</td>\n",
       "      <td>...</td>\n",
       "      <td>...</td>\n",
       "      <td>...</td>\n",
       "      <td>...</td>\n",
       "      <td>...</td>\n",
       "      <td>...</td>\n",
       "    </tr>\n",
       "    <tr>\n",
       "      <th>66</th>\n",
       "      <td>SAHTE _0</td>\n",
       "      <td>0.870261</td>\n",
       "      <td>0.912499</td>\n",
       "      <td>0.191906</td>\n",
       "      <td>0.1302</td>\n",
       "      <td>True</td>\n",
       "      <td>True</td>\n",
       "      <td>False</td>\n",
       "      <td>False</td>\n",
       "      <td>False</td>\n",
       "      <td>...</td>\n",
       "      <td>NaN</td>\n",
       "      <td>NaN</td>\n",
       "      <td>NaN</td>\n",
       "      <td>NaN</td>\n",
       "      <td>NaN</td>\n",
       "      <td>NaN</td>\n",
       "      <td>NaN</td>\n",
       "      <td>NaN</td>\n",
       "      <td>NaN</td>\n",
       "      <td>NaN</td>\n",
       "    </tr>\n",
       "    <tr>\n",
       "      <th>67</th>\n",
       "      <td>SAHTE _0</td>\n",
       "      <td>0.870261</td>\n",
       "      <td>0.912499</td>\n",
       "      <td>0.191906</td>\n",
       "      <td>0.1302</td>\n",
       "      <td>True</td>\n",
       "      <td>True</td>\n",
       "      <td>False</td>\n",
       "      <td>False</td>\n",
       "      <td>False</td>\n",
       "      <td>...</td>\n",
       "      <td>NaN</td>\n",
       "      <td>NaN</td>\n",
       "      <td>NaN</td>\n",
       "      <td>NaN</td>\n",
       "      <td>NaN</td>\n",
       "      <td>NaN</td>\n",
       "      <td>NaN</td>\n",
       "      <td>NaN</td>\n",
       "      <td>NaN</td>\n",
       "      <td>NaN</td>\n",
       "    </tr>\n",
       "    <tr>\n",
       "      <th>68</th>\n",
       "      <td>SAHTE _0</td>\n",
       "      <td>0.870261</td>\n",
       "      <td>0.912499</td>\n",
       "      <td>0.191906</td>\n",
       "      <td>0.1302</td>\n",
       "      <td>True</td>\n",
       "      <td>True</td>\n",
       "      <td>False</td>\n",
       "      <td>False</td>\n",
       "      <td>False</td>\n",
       "      <td>...</td>\n",
       "      <td>NaN</td>\n",
       "      <td>NaN</td>\n",
       "      <td>NaN</td>\n",
       "      <td>NaN</td>\n",
       "      <td>NaN</td>\n",
       "      <td>NaN</td>\n",
       "      <td>NaN</td>\n",
       "      <td>NaN</td>\n",
       "      <td>NaN</td>\n",
       "      <td>NaN</td>\n",
       "    </tr>\n",
       "    <tr>\n",
       "      <th>69</th>\n",
       "      <td>SAHTE _0</td>\n",
       "      <td>0.870261</td>\n",
       "      <td>0.912499</td>\n",
       "      <td>0.191906</td>\n",
       "      <td>0.1302</td>\n",
       "      <td>True</td>\n",
       "      <td>True</td>\n",
       "      <td>False</td>\n",
       "      <td>False</td>\n",
       "      <td>False</td>\n",
       "      <td>...</td>\n",
       "      <td>NaN</td>\n",
       "      <td>NaN</td>\n",
       "      <td>NaN</td>\n",
       "      <td>NaN</td>\n",
       "      <td>NaN</td>\n",
       "      <td>NaN</td>\n",
       "      <td>NaN</td>\n",
       "      <td>NaN</td>\n",
       "      <td>NaN</td>\n",
       "      <td>NaN</td>\n",
       "    </tr>\n",
       "    <tr>\n",
       "      <th>70</th>\n",
       "      <td>SAHTE _0</td>\n",
       "      <td>0.870261</td>\n",
       "      <td>0.912499</td>\n",
       "      <td>0.191906</td>\n",
       "      <td>0.1302</td>\n",
       "      <td>True</td>\n",
       "      <td>True</td>\n",
       "      <td>False</td>\n",
       "      <td>False</td>\n",
       "      <td>False</td>\n",
       "      <td>...</td>\n",
       "      <td>NaN</td>\n",
       "      <td>NaN</td>\n",
       "      <td>NaN</td>\n",
       "      <td>NaN</td>\n",
       "      <td>NaN</td>\n",
       "      <td>NaN</td>\n",
       "      <td>NaN</td>\n",
       "      <td>NaN</td>\n",
       "      <td>NaN</td>\n",
       "      <td>NaN</td>\n",
       "    </tr>\n",
       "  </tbody>\n",
       "</table>\n",
       "<p>189136 rows × 163 columns</p>\n",
       "</div>"
      ],
      "text/plain": [
       "     LEXICON  RIGHT_THUMB_ANGLE_PIP  RIGHT_THUMB_ANGLE_DIP  \\\n",
       "0     ARAP_1                    NaN                    NaN   \n",
       "1     ARAP_1                    NaN                    NaN   \n",
       "2     ARAP_1                    NaN                    NaN   \n",
       "3     ARAP_1                    NaN                    NaN   \n",
       "4     ARAP_1                    NaN                    NaN   \n",
       "..       ...                    ...                    ...   \n",
       "66  SAHTE _0               0.870261               0.912499   \n",
       "67  SAHTE _0               0.870261               0.912499   \n",
       "68  SAHTE _0               0.870261               0.912499   \n",
       "69  SAHTE _0               0.870261               0.912499   \n",
       "70  SAHTE _0               0.870261               0.912499   \n",
       "\n",
       "    RIGHT_THUMB_ANGLE_WRST_PIP  RIGHT_THUMB_ANGLE_WRST_DIP  \\\n",
       "0                          NaN                         NaN   \n",
       "1                          NaN                         NaN   \n",
       "2                          NaN                         NaN   \n",
       "3                          NaN                         NaN   \n",
       "4                          NaN                         NaN   \n",
       "..                         ...                         ...   \n",
       "66                    0.191906                      0.1302   \n",
       "67                    0.191906                      0.1302   \n",
       "68                    0.191906                      0.1302   \n",
       "69                    0.191906                      0.1302   \n",
       "70                    0.191906                      0.1302   \n",
       "\n",
       "   RIGHT_THUMB_ANGLE_PIP_SELECT RIGHT_THUMB_ANGLE_DIP_SELECT  \\\n",
       "0                           NaN                          NaN   \n",
       "1                           NaN                          NaN   \n",
       "2                           NaN                          NaN   \n",
       "3                           NaN                          NaN   \n",
       "4                           NaN                          NaN   \n",
       "..                          ...                          ...   \n",
       "66                         True                         True   \n",
       "67                         True                         True   \n",
       "68                         True                         True   \n",
       "69                         True                         True   \n",
       "70                         True                         True   \n",
       "\n",
       "   RIGHT_THUMB_ANGLE_WRST_PIP_SELECT RIGHT_THUMB_ANGLE_WRST_DIP_SELECT  \\\n",
       "0                                NaN                               NaN   \n",
       "1                                NaN                               NaN   \n",
       "2                                NaN                               NaN   \n",
       "3                                NaN                               NaN   \n",
       "4                                NaN                               NaN   \n",
       "..                               ...                               ...   \n",
       "66                             False                             False   \n",
       "67                             False                             False   \n",
       "68                             False                             False   \n",
       "69                             False                             False   \n",
       "70                             False                             False   \n",
       "\n",
       "   RIGHT_THUMB_ANGLE_PIP_CURVE  ... IN_FRONT_LABEL IN_FRONT_SCORE  \\\n",
       "0                          NaN  ...            NaN            NaN   \n",
       "1                          NaN  ...            NaN            NaN   \n",
       "2                          NaN  ...            NaN            NaN   \n",
       "3                          NaN  ...            NaN            NaN   \n",
       "4                          NaN  ...            NaN            NaN   \n",
       "..                         ...  ...            ...            ...   \n",
       "66                       False  ...            NaN            NaN   \n",
       "67                       False  ...            NaN            NaN   \n",
       "68                       False  ...            NaN            NaN   \n",
       "69                       False  ...            NaN            NaN   \n",
       "70                       False  ...            NaN            NaN   \n",
       "\n",
       "   ABOVE/BELOW_LABEL  ABOVE/BELOW_SCORE  LEFT_SETTING_LABEL  \\\n",
       "0                NaN                NaN                 NaN   \n",
       "1                NaN                NaN                 NaN   \n",
       "2                NaN                NaN                 NaN   \n",
       "3                NaN                NaN                 NaN   \n",
       "4                NaN                NaN                 NaN   \n",
       "..               ...                ...                 ...   \n",
       "66               NaN                NaN                 NaN   \n",
       "67               NaN                NaN                 NaN   \n",
       "68               NaN                NaN                 NaN   \n",
       "69               NaN                NaN                 NaN   \n",
       "70               NaN                NaN                 NaN   \n",
       "\n",
       "    LEFT_SETTING_SCORE  LEFT_REPETITION_LABEL LEFT_REPETITION_SCORE  \\\n",
       "0                  NaN                    NaN                   NaN   \n",
       "1                  NaN                    NaN                   NaN   \n",
       "2                  NaN                    NaN                   NaN   \n",
       "3                  NaN                    NaN                   NaN   \n",
       "4                  NaN                    NaN                   NaN   \n",
       "..                 ...                    ...                   ...   \n",
       "66                 NaN                    NaN                   NaN   \n",
       "67                 NaN                    NaN                   NaN   \n",
       "68                 NaN                    NaN                   NaN   \n",
       "69                 NaN                    NaN                   NaN   \n",
       "70                 NaN                    NaN                   NaN   \n",
       "\n",
       "   LEFT_CURVE_LABEL LEFT_CURVE_SCORE  \n",
       "0               NaN              NaN  \n",
       "1               NaN              NaN  \n",
       "2               NaN              NaN  \n",
       "3               NaN              NaN  \n",
       "4               NaN              NaN  \n",
       "..              ...              ...  \n",
       "66              NaN              NaN  \n",
       "67              NaN              NaN  \n",
       "68              NaN              NaN  \n",
       "69              NaN              NaN  \n",
       "70              NaN              NaN  \n",
       "\n",
       "[189136 rows x 163 columns]"
      ]
     },
     "execution_count": 10,
     "metadata": {},
     "output_type": "execute_result"
    }
   ],
   "source": [
    "DF_POSE"
   ]
  },
  {
   "cell_type": "code",
   "execution_count": 11,
   "metadata": {},
   "outputs": [],
   "source": [
    "RIGHT_HAND_ABS_DIFF =  DF_POSE[['LEXICON']+RIGHT_COLS.to_list()].groupby('LEXICON').apply(calculateMeanDiff).sum(1)\n",
    "LEFT_HAND_ABS_DIFF =  DF_POSE[['LEXICON']+LEFT_COLS.to_list()].groupby('LEXICON').apply(calculateMeanDiff).sum(1)"
   ]
  },
  {
   "cell_type": "code",
   "execution_count": 12,
   "metadata": {},
   "outputs": [],
   "source": [
    "HAND_MEAN = pd.DataFrame({\n",
    "    'RIGHT': RIGHT_HAND_ABS_DIFF,\n",
    "    'LEFT': LEFT_HAND_ABS_DIFF\n",
    "}).reset_index()"
   ]
  },
  {
   "cell_type": "code",
   "execution_count": 13,
   "metadata": {},
   "outputs": [],
   "source": [
    "HAND_MEAN['HAND_DIFF'] = HAND_MEAN['RIGHT'] - HAND_MEAN['LEFT']"
   ]
  },
  {
   "cell_type": "code",
   "execution_count": 14,
   "metadata": {},
   "outputs": [
    {
     "data": {
      "text/plain": [
       "<Axes: ylabel='Density'>"
      ]
     },
     "execution_count": 14,
     "metadata": {},
     "output_type": "execute_result"
    },
    {
     "data": {
      "image/png": "[encoded data removed]",
      "text/plain": [
       "<Figure size 1440x720 with 1 Axes>"
      ]
     },
     "metadata": {
      "needs_background": "light"
     },
     "output_type": "display_data"
    }
   ],
   "source": [
    "# TODO: Can add to signer based dominance summary is \n",
    "HAND_MEAN.HAND_DIFF.sort_values().plot(kind='density', figsize=(20,10)) # For explaining hand domination"
   ]
  },
  {
   "cell_type": "code",
   "execution_count": 15,
   "metadata": {},
   "outputs": [
    {
     "name": "stderr",
     "output_type": "stream",
     "text": [
      "/tmp/ipykernel_7583/1188462947.py:1: UserWarning: Boolean Series key will be reindexed to match DataFrame index.\n",
      "  HAND_MEAN[HAND_MEAN.HAND_DIFF>0][HAND_MEAN.LEFT>0].sort_values(by='HAND_DIFF',ascending=False)\n"
     ]
    },
    {
     "data": {
      "text/html": [
       "<div>\n",
       "<style scoped>\n",
       "    .dataframe tbody tr th:only-of-type {\n",
       "        vertical-align: middle;\n",
       "    }\n",
       "\n",
       "    .dataframe tbody tr th {\n",
       "        vertical-align: top;\n",
       "    }\n",
       "\n",
       "    .dataframe thead th {\n",
       "        text-align: right;\n",
       "    }\n",
       "</style>\n",
       "<table border=\"1\" class=\"dataframe\">\n",
       "  <thead>\n",
       "    <tr style=\"text-align: right;\">\n",
       "      <th></th>\n",
       "      <th>LEXICON</th>\n",
       "      <th>RIGHT</th>\n",
       "      <th>LEFT</th>\n",
       "      <th>HAND_DIFF</th>\n",
       "    </tr>\n",
       "  </thead>\n",
       "  <tbody>\n",
       "    <tr>\n",
       "      <th>441</th>\n",
       "      <td>BILARDO_0</td>\n",
       "      <td>2.492681</td>\n",
       "      <td>0.872910</td>\n",
       "      <td>1.619771</td>\n",
       "    </tr>\n",
       "    <tr>\n",
       "      <th>2364</th>\n",
       "      <td>SIKMAK_1</td>\n",
       "      <td>1.749761</td>\n",
       "      <td>0.310830</td>\n",
       "      <td>1.438931</td>\n",
       "    </tr>\n",
       "    <tr>\n",
       "      <th>1717</th>\n",
       "      <td>KURS_1</td>\n",
       "      <td>1.739100</td>\n",
       "      <td>0.446854</td>\n",
       "      <td>1.292246</td>\n",
       "    </tr>\n",
       "    <tr>\n",
       "      <th>744</th>\n",
       "      <td>DEĞIRMEN_1</td>\n",
       "      <td>2.287144</td>\n",
       "      <td>1.034021</td>\n",
       "      <td>1.253124</td>\n",
       "    </tr>\n",
       "    <tr>\n",
       "      <th>684</th>\n",
       "      <td>DAVUL_0</td>\n",
       "      <td>1.782061</td>\n",
       "      <td>0.535796</td>\n",
       "      <td>1.246264</td>\n",
       "    </tr>\n",
       "    <tr>\n",
       "      <th>...</th>\n",
       "      <td>...</td>\n",
       "      <td>...</td>\n",
       "      <td>...</td>\n",
       "      <td>...</td>\n",
       "    </tr>\n",
       "    <tr>\n",
       "      <th>1941</th>\n",
       "      <td>NAMAZ_0</td>\n",
       "      <td>0.718088</td>\n",
       "      <td>0.716674</td>\n",
       "      <td>0.001413</td>\n",
       "    </tr>\n",
       "    <tr>\n",
       "      <th>2385</th>\n",
       "      <td>SIRA _0</td>\n",
       "      <td>0.809407</td>\n",
       "      <td>0.808213</td>\n",
       "      <td>0.001194</td>\n",
       "    </tr>\n",
       "    <tr>\n",
       "      <th>2170</th>\n",
       "      <td>PRATIK_0</td>\n",
       "      <td>1.219684</td>\n",
       "      <td>1.218586</td>\n",
       "      <td>0.001098</td>\n",
       "    </tr>\n",
       "    <tr>\n",
       "      <th>762</th>\n",
       "      <td>DIKKAT ETMEK_0</td>\n",
       "      <td>0.790913</td>\n",
       "      <td>0.789956</td>\n",
       "      <td>0.000957</td>\n",
       "    </tr>\n",
       "    <tr>\n",
       "      <th>1837</th>\n",
       "      <td>MEMNUN_0</td>\n",
       "      <td>0.533522</td>\n",
       "      <td>0.533268</td>\n",
       "      <td>0.000254</td>\n",
       "    </tr>\n",
       "  </tbody>\n",
       "</table>\n",
       "<p>1054 rows × 4 columns</p>\n",
       "</div>"
      ],
      "text/plain": [
       "             LEXICON     RIGHT      LEFT  HAND_DIFF\n",
       "441        BILARDO_0  2.492681  0.872910   1.619771\n",
       "2364        SIKMAK_1  1.749761  0.310830   1.438931\n",
       "1717          KURS_1  1.739100  0.446854   1.292246\n",
       "744       DEĞIRMEN_1  2.287144  1.034021   1.253124\n",
       "684          DAVUL_0  1.782061  0.535796   1.246264\n",
       "...              ...       ...       ...        ...\n",
       "1941         NAMAZ_0  0.718088  0.716674   0.001413\n",
       "2385         SIRA _0  0.809407  0.808213   0.001194\n",
       "2170        PRATIK_0  1.219684  1.218586   0.001098\n",
       "762   DIKKAT ETMEK_0  0.790913  0.789956   0.000957\n",
       "1837        MEMNUN_0  0.533522  0.533268   0.000254\n",
       "\n",
       "[1054 rows x 4 columns]"
      ]
     },
     "execution_count": 15,
     "metadata": {},
     "output_type": "execute_result"
    }
   ],
   "source": [
    "HAND_MEAN[HAND_MEAN.HAND_DIFF>0][HAND_MEAN.LEFT>0].sort_values(by='HAND_DIFF',ascending=False)"
   ]
  },
  {
   "cell_type": "code",
   "execution_count": 16,
   "metadata": {},
   "outputs": [
    {
     "data": {
      "text/plain": [
       "(3395, 4)"
      ]
     },
     "execution_count": 16,
     "metadata": {},
     "output_type": "execute_result"
    }
   ],
   "source": [
    "HAND_MEAN.shape"
   ]
  },
  {
   "cell_type": "code",
   "execution_count": 17,
   "metadata": {},
   "outputs": [],
   "source": [
    "TID_CORPUS = pd.read_json('../../data/tid_sozluk.json')\n",
    "DFS = []\n",
    "for rec in TID_CORPUS.to_dict(orient='records'):\n",
    "    for idx, meaning in enumerate(rec['meanings']):\n",
    "        nrec = {\n",
    "            'id': rec['id'],\n",
    "            'LEXICON': rec['word'].upper() + f'_{idx}'\n",
    "        }\n",
    "        nrec.update(meaning)\n",
    "        DFS.append(nrec)\n",
    "DFS = pd.DataFrame.from_records(DFS)\n"
   ]
  },
  {
   "cell_type": "code",
   "execution_count": 18,
   "metadata": {},
   "outputs": [],
   "source": [
    "DFS_ISOLATED = DFS[['id', 'LEXICON', 'pos', 'isolated']].merge(right=HAND_MEAN, how='right').explode('isolated')"
   ]
  },
  {
   "cell_type": "code",
   "execution_count": 19,
   "metadata": {},
   "outputs": [],
   "source": [
    "DFS_ISOLATED = DFS_ISOLATED.dropna()"
   ]
  },
  {
   "cell_type": "code",
   "execution_count": 20,
   "metadata": {},
   "outputs": [],
   "source": [
    "DFS_ISOLATED['MOV_ID'] = DFS_ISOLATED.isolated.apply(lambda x: x['id'])\n",
    "DFS_ISOLATED['MOV_SQ'] = DFS_ISOLATED.isolated.apply(lambda x: x['mov'])"
   ]
  },
  {
   "cell_type": "code",
   "execution_count": 21,
   "metadata": {},
   "outputs": [],
   "source": [
    "DFS_ISOLATED.columns = ['LEX_ID', 'LEXICON', 'POS', 'isolated', 'RIGHT', 'LEFT', 'HAND_DIFF', 'MOV_ID', 'MOV_SQ']"
   ]
  },
  {
   "cell_type": "code",
   "execution_count": 22,
   "metadata": {},
   "outputs": [],
   "source": [
    "DFS_ISOLATED = DFS_ISOLATED[['LEX_ID', 'LEXICON', 'POS', 'RIGHT', 'LEFT', 'HAND_DIFF', 'MOV_ID', 'MOV_SQ']]"
   ]
  },
  {
   "cell_type": "code",
   "execution_count": 23,
   "metadata": {},
   "outputs": [],
   "source": [
    "DFS_ISOLATED = DFS_ISOLATED.explode('MOV_SQ')"
   ]
  },
  {
   "cell_type": "code",
   "execution_count": 24,
   "metadata": {},
   "outputs": [],
   "source": [
    "DFS_ISOLATED['HAND'] = DFS_ISOLATED['MOV_SQ'].apply(lambda x: x['hand'])\n",
    "DFS_ISOLATED['PLACE'] = DFS_ISOLATED['MOV_SQ'].apply(lambda x: x['place'])"
   ]
  },
  {
   "cell_type": "code",
   "execution_count": 25,
   "metadata": {},
   "outputs": [],
   "source": [
    "DFS_ISOLATED = DFS_ISOLATED[['LEXICON', 'POS', 'RIGHT', 'LEFT', 'HAND_DIFF', 'MOV_ID', 'HAND', 'PLACE']]"
   ]
  },
  {
   "cell_type": "markdown",
   "metadata": {},
   "source": [
    "### DOMINANCE - NON-MARKED HAND SHAPES\n",
    "\n",
    "Revised Dominance Condition: In signs in which h2 is passive (i.e.,\n",
    "does not move),. h2 must either be unspecified underlyingly, or it\n",
    "must be characterized by an unmarked handshape. \n",
    "\n",
    "<img src='unmarked.png'>"
   ]
  },
  {
   "cell_type": "code",
   "execution_count": 40,
   "metadata": {},
   "outputs": [],
   "source": [
    "DFS_ISOLATED_CROP = DFS_ISOLATED[DFS_ISOLATED.RIGHT != 0.0]\n",
    "DFS_ISOLATED_CROP = DFS_ISOLATED_CROP[DFS_ISOLATED_CROP.LEFT != 0.0]\n",
    "\n",
    "DFS_ISOLATED_CROP.sort_values(by='HAND_DIFF', ascending=False).drop_duplicates(subset=['LEXICON']).to_excel('top_100_dom_signs.xlsx', index=False)"
   ]
  },
  {
   "cell_type": "code",
   "execution_count": 6,
   "metadata": {},
   "outputs": [],
   "source": [
    "DOM = pd.read_csv('dom.csv', header=None, names=['LEXICON', 'X', 'DOM', 'TYPE'])"
   ]
  },
  {
   "cell_type": "code",
   "execution_count": 36,
   "metadata": {},
   "outputs": [
    {
     "name": "stderr",
     "output_type": "stream",
     "text": [
      "/tmp/ipykernel_16110/1738371440.py:17: RuntimeWarning: invalid value encountered in scalar divide\n",
      "  precision_at_k = tp / k\n"
     ]
    },
    {
     "data": {
      "image/png": "[encoded data removed]",
      "text/plain": [
       "<Figure size 720x720 with 1 Axes>"
      ]
     },
     "metadata": {
      "needs_background": "light"
     },
     "output_type": "display_data"
    }
   ],
   "source": [
    "import numpy as np\n",
    "import pandas as pd\n",
    "import seaborn as sns\n",
    "import matplotlib.pyplot as plt\n",
    "\n",
    "# Example data: ranked_items with 1s for relevant items and 0s for non-relevant\n",
    "ranked_items = DOM.DOM # Extend this list as needed\n",
    "total_relevant_items = sum(ranked_items)  # Total number of relevant items\n",
    "\n",
    "# Calculating Precision@k and Recall@k\n",
    "ks = np.arange(100)  # Different cutoff values\n",
    "data = []\n",
    "\n",
    "for k in ks:\n",
    "    top_k_items = ranked_items[:k]\n",
    "    tp = sum(top_k_items)  # True positives in top k\n",
    "    precision_at_k = tp / k\n",
    "    recall_at_k = tp / total_relevant_items\n",
    "    data.append({\"k\": k, \"Precision@k\": precision_at_k, \"Recall@k\": recall_at_k})\n",
    "\n",
    "# Convert to DataFrame for easier plotting\n",
    "df = pd.DataFrame(data)\n",
    "\n",
    "# Melting the DataFrame to make it suitable for sns.lineplot()\n",
    "df_melted = df.melt(\n",
    "    id_vars=[\"k\"],\n",
    "    value_vars=[\"Precision@k\"],\n",
    "    var_name=\"Metric\",\n",
    "    value_name=\"Value\",\n",
    ")\n",
    "\n",
    "# Plotting with Seaborn\n",
    "plt.figure(figsize=(10, 10))\n",
    "sns.lineplot(data=df_melted, x=\"k\", y=\"Value\", hue=\"Metric\")\n",
    "\n",
    "plt.title(\"Precision at k for Dominance Retrieval\")\n",
    "plt.xlabel(\"Order of Retrieval\")\n",
    "plt.ylabel(\"Precision@k\")\n",
    "plt.grid(True)\n",
    "plt.show()"
   ]
  },
  {
   "cell_type": "code",
   "execution_count": 33,
   "metadata": {},
   "outputs": [],
   "source": [
    "TOP_100_DOM_HAND = DFS_ISOLATED_CROP.sort_values(by=\"HAND_DIFF\", ascending=False).head(100).HAND.value_counts()"
   ]
  },
  {
   "cell_type": "code",
   "execution_count": 30,
   "metadata": {},
   "outputs": [
    {
     "data": {
      "text/html": [
       "<div>\n",
       "<style scoped>\n",
       "    .dataframe tbody tr th:only-of-type {\n",
       "        vertical-align: middle;\n",
       "    }\n",
       "\n",
       "    .dataframe tbody tr th {\n",
       "        vertical-align: top;\n",
       "    }\n",
       "\n",
       "    .dataframe thead th {\n",
       "        text-align: right;\n",
       "    }\n",
       "</style>\n",
       "<table border=\"1\" class=\"dataframe\">\n",
       "  <thead>\n",
       "    <tr style=\"text-align: right;\">\n",
       "      <th></th>\n",
       "      <th>LEXICON</th>\n",
       "      <th>POS</th>\n",
       "      <th>RIGHT</th>\n",
       "      <th>LEFT</th>\n",
       "      <th>HAND_DIFF</th>\n",
       "      <th>MOV_ID</th>\n",
       "      <th>HAND</th>\n",
       "      <th>PLACE</th>\n",
       "    </tr>\n",
       "  </thead>\n",
       "  <tbody>\n",
       "    <tr>\n",
       "      <th>189</th>\n",
       "      <td>AUT_0</td>\n",
       "      <td></td>\n",
       "      <td>1.162273</td>\n",
       "      <td>2.985454</td>\n",
       "      <td>-1.823181</td>\n",
       "      <td>1</td>\n",
       "      <td>17</td>\n",
       "      <td>23</td>\n",
       "    </tr>\n",
       "    <tr>\n",
       "      <th>2559</th>\n",
       "      <td>TAVA_0</td>\n",
       "      <td>Ad</td>\n",
       "      <td>0.395400</td>\n",
       "      <td>1.594269</td>\n",
       "      <td>-1.198869</td>\n",
       "      <td>1</td>\n",
       "      <td>11</td>\n",
       "      <td>23</td>\n",
       "    </tr>\n",
       "    <tr>\n",
       "      <th>3048</th>\n",
       "      <td>ÇAMAŞIR_0</td>\n",
       "      <td>Ad</td>\n",
       "      <td>0.684140</td>\n",
       "      <td>1.833739</td>\n",
       "      <td>-1.149600</td>\n",
       "      <td>2</td>\n",
       "      <td>29</td>\n",
       "      <td>1</td>\n",
       "    </tr>\n",
       "    <tr>\n",
       "      <th>3048</th>\n",
       "      <td>ÇAMAŞIR_0</td>\n",
       "      <td>Ad</td>\n",
       "      <td>0.684140</td>\n",
       "      <td>1.833739</td>\n",
       "      <td>-1.149600</td>\n",
       "      <td>1</td>\n",
       "      <td>25</td>\n",
       "      <td>23</td>\n",
       "    </tr>\n",
       "    <tr>\n",
       "      <th>1121</th>\n",
       "      <td>GECIKMEK_0</td>\n",
       "      <td>Eylem</td>\n",
       "      <td>0.498260</td>\n",
       "      <td>1.567909</td>\n",
       "      <td>-1.069648</td>\n",
       "      <td>1</td>\n",
       "      <td>28</td>\n",
       "      <td>21</td>\n",
       "    </tr>\n",
       "  </tbody>\n",
       "</table>\n",
       "</div>"
      ],
      "text/plain": [
       "         LEXICON     POS     RIGHT      LEFT  HAND_DIFF  MOV_ID HAND PLACE\n",
       "189        AUT_0          1.162273  2.985454  -1.823181       1   17    23\n",
       "2559      TAVA_0     Ad   0.395400  1.594269  -1.198869       1   11    23\n",
       "3048   ÇAMAŞIR_0     Ad   0.684140  1.833739  -1.149600       2   29     1\n",
       "3048   ÇAMAŞIR_0     Ad   0.684140  1.833739  -1.149600       1   25    23\n",
       "1121  GECIKMEK_0  Eylem   0.498260  1.567909  -1.069648       1   28    21"
      ]
     },
     "execution_count": 30,
     "metadata": {},
     "output_type": "execute_result"
    }
   ],
   "source": [
    "DFS_ISOLATED_CROP.sort_values(by='HAND_DIFF', ascending=True).head(5)"
   ]
  },
  {
   "cell_type": "code",
   "execution_count": 26,
   "metadata": {},
   "outputs": [
    {
     "data": {
      "text/plain": [
       "28    0.14\n",
       "17    0.11\n",
       "19    0.10\n",
       "29    0.07\n",
       "11    0.07\n",
       "25    0.06\n",
       "8     0.06\n",
       "20    0.06\n",
       "22    0.05\n",
       "26    0.05\n",
       "5     0.04\n",
       "31    0.04\n",
       "32    0.04\n",
       "18    0.02\n",
       "7     0.02\n",
       "27    0.02\n",
       "6     0.01\n",
       "10    0.01\n",
       "1     0.01\n",
       "3     0.01\n",
       "15    0.01\n",
       "Name: HAND, dtype: float64"
      ]
     },
     "execution_count": 26,
     "metadata": {},
     "output_type": "execute_result"
    }
   ],
   "source": [
    "DFS_ISOLATED_CROP.sort_values(by='HAND_DIFF', ascending=True).head(100).HAND.value_counts() / 100"
   ]
  },
  {
   "cell_type": "code",
   "execution_count": null,
   "metadata": {},
   "outputs": [
    {
     "name": "stdout",
     "output_type": "stream",
     "text": [
      "        HAND vals\n",
      "17  0.290909   17\n",
      "25  0.218182   25\n",
      "11  0.181818   11\n",
      "28  0.181818   28\n",
      "26  0.127273   26\n"
     ]
    },
    {
     "data": {
      "image/png": "[encoded data removed]",
      "text/plain": [
       "<Figure size 1080x360 with 1 Axes>"
      ]
     },
     "metadata": {
      "needs_background": "light"
     },
     "output_type": "display_data"
    }
   ],
   "source": [
    "import seaborn as sns\n",
    "\n",
    "dist = DFS_ISOLATED_CROP.sort_values(by='HAND_DIFF', ascending=False).head(100).HAND.value_counts()[:5] / DFS_ISOLATED_CROP.sort_values(by='HAND_DIFF', ascending=False).head(100).HAND.value_counts()[:5].sum()\n",
    "\n",
    "dist = pd.DataFrame(dist)\n",
    "\n",
    "dist['vals'] = dist.index\n",
    "print(dist)\n",
    "\n",
    "%matplotlib inline\n",
    "import matplotlib.pyplot as plt\n",
    "plt.figure(figsize=(15,5))\n",
    "ax = sns.barplot(x=\"vals\", y=\"HAND\", data=dist)\n",
    "ax.set_xlabel('Handshape ID')\n",
    "ax.set_ylabel('')\n",
    "\n",
    "ax.set(xticklabels=[])  # remove the tick labels\n",
    "ax.tick_params(bottom=False)  # remove the ticks\n",
    "# 17 , 25 , 11, 28, 26\n",
    "for i in ax.containers:\n",
    "    ax.bar_label(i,)"
   ]
  },
  {
   "cell_type": "code",
   "execution_count": null,
   "metadata": {},
   "outputs": [
    {
     "data": {
      "text/plain": [
       "<Axes: >"
      ]
     },
     "execution_count": 116,
     "metadata": {},
     "output_type": "execute_result"
    },
    {
     "data": {
      "image/png": "[encoded data removed]",
      "text/plain": [
       "<Figure size 1440x360 with 1 Axes>"
      ]
     },
     "metadata": {
      "needs_background": "light"
     },
     "output_type": "display_data"
    }
   ],
   "source": [
    "DFS_ISOLATED.sort_values(by='HAND_DIFF', ascending=True).head(200).HAND.value_counts().plot(kind='bar', figsize=(20,5))"
   ]
  },
  {
   "cell_type": "code",
   "execution_count": null,
   "metadata": {},
   "outputs": [],
   "source": [
    "import requests\n",
    "\n",
    "for idx in range(1,34):\n",
    "    resp = requests.get(f'https://tidsozluk.aile.gov.tr/imgz/degiske_el-konum/el/{idx}.png')\n",
    "    with open(f'hand/{idx}.png', 'wb') as f:\n",
    "        f.write(resp.content)"
   ]
  },
  {
   "cell_type": "markdown",
   "metadata": {},
   "source": [
    "### SYMMETRICITY CONDITION\n",
    "\n",
    "-  Symmetrical movements are also a strategy to show the quantity of objects. (kubuş)\n",
    "\n",
    "-  Featural Symmetry (or ‘‘Maximize Symmetry’’): The amount of\n",
    "featural complexity in the construction is reduced by making the two\n",
    "hands identical in their selected finger combinations, joint\n",
    "specifications, or both. \n",
    "\n",
    "- e “Symmetry Condition” and the “Dominance Condition”\n",
    "(Battison 1978); therefore, they are not usable as signs. Most letters do not obey the\n",
    "symmetry condition, and then unmarked handshapes are restricted for the nondominant hand. For instance, in the “A” letter which can be classified as a Type-3\n",
    "sign, the non-dominant hand has the V-handshape while the dominant hand has the Ihandshape. This condition indicates that this letter sign is an iconic form which may\n",
    "not be counted as a sign constructed from handshapes in terms of phonemes"
   ]
  },
  {
   "cell_type": "code",
   "execution_count": 28,
   "metadata": {},
   "outputs": [],
   "source": [
    "DFS_ISOLATED_NONZERO = DFS_ISOLATED[DFS_ISOLATED.RIGHT != 0]\n",
    "DFS_ISOLATED_NONZERO = DFS_ISOLATED_NONZERO[DFS_ISOLATED_NONZERO.LEFT != 0]"
   ]
  },
  {
   "cell_type": "code",
   "execution_count": 29,
   "metadata": {},
   "outputs": [],
   "source": [
    "DFS_ISOLATED_NONZERO_RIGHT = DFS_ISOLATED_NONZERO[DFS_ISOLATED_NONZERO.HAND_DIFF > 0]\n",
    "DFS_ISOLATED_NONZERO_LEFT = DFS_ISOLATED_NONZERO[DFS_ISOLATED_NONZERO.HAND_DIFF < 0]"
   ]
  },
  {
   "cell_type": "code",
   "execution_count": 30,
   "metadata": {},
   "outputs": [],
   "source": [
    "DFS_ISOLATED_NONZERO_LEFT = DFS_ISOLATED_NONZERO_LEFT.sort_values(by='HAND_DIFF', ascending=False).drop_duplicates(subset='LEXICON')\n",
    "DFS_ISOLATED_NONZERO_RIGHT = DFS_ISOLATED_NONZERO_RIGHT.sort_values(by='HAND_DIFF', ascending=True).drop_duplicates(subset='LEXICON')"
   ]
  },
  {
   "cell_type": "code",
   "execution_count": 31,
   "metadata": {},
   "outputs": [
    {
     "name": "stdout",
     "output_type": "stream",
     "text": [
      "        HAND vals\n",
      "28  0.296296   28\n",
      "17  0.259259   17\n",
      "19  0.185185   19\n",
      "25  0.129630   25\n",
      "11  0.129630   11\n"
     ]
    },
    {
     "data": {
      "image/png": "[encoded data removed]",
      "text/plain": [
       "<Figure size 1080x360 with 1 Axes>"
      ]
     },
     "metadata": {
      "needs_background": "light"
     },
     "output_type": "display_data"
    }
   ],
   "source": [
    "import seaborn as sns\n",
    "\n",
    "dist = (DFS_ISOLATED_NONZERO_RIGHT.head(100).HAND.value_counts()[:5] / DFS_ISOLATED_NONZERO_RIGHT.head(100).HAND.value_counts()[:5].sum())\n",
    "\n",
    "dist = pd.DataFrame(dist)\n",
    "\n",
    "dist['vals'] = dist.index\n",
    "print(dist)\n",
    "\n",
    "%matplotlib inline\n",
    "import matplotlib.pyplot as plt\n",
    "plt.figure(figsize=(15,5))\n",
    "ax = sns.barplot(x=\"vals\", y=\"HAND\", data=dist)\n",
    "ax.set_xlabel('Handshape ID')\n",
    "ax.set_ylabel('')\n",
    "\n",
    "ax.set(xticklabels=[])  # remove the tick labels\n",
    "ax.tick_params(bottom=False)  # remove the ticks\n",
    "# 28, 17, 19, 25, 11\n",
    "for i in ax.containers:\n",
    "    ax.bar_label(i,)"
   ]
  },
  {
   "cell_type": "code",
   "execution_count": 32,
   "metadata": {},
   "outputs": [
    {
     "data": {
      "text/plain": [
       "<Axes: >"
      ]
     },
     "execution_count": 32,
     "metadata": {},
     "output_type": "execute_result"
    },
    {
     "data": {
      "image/png": "[encoded data removed]",
      "text/plain": [
       "<Figure size 1440x360 with 1 Axes>"
      ]
     },
     "metadata": {
      "needs_background": "light"
     },
     "output_type": "display_data"
    }
   ],
   "source": [
    "(DFS_ISOLATED_NONZERO_RIGHT.head(100).HAND.value_counts()[:5] / DFS_ISOLATED_NONZERO_RIGHT.head(100).HAND.value_counts()[:5].sum()).plot(kind='bar', figsize=(20,5))"
   ]
  },
  {
   "cell_type": "code",
   "execution_count": 48,
   "metadata": {},
   "outputs": [],
   "source": [
    "DFS_ISOLATED_NONZERO_LEFT.sort_values(by='HAND_DIFF', ascending=True).head(200).to_excel('left_dominance_200.xlsx', index=False)"
   ]
  },
  {
   "cell_type": "code",
   "execution_count": 47,
   "metadata": {},
   "outputs": [
    {
     "data": {
      "text/html": [
       "<div>\n",
       "<style scoped>\n",
       "    .dataframe tbody tr th:only-of-type {\n",
       "        vertical-align: middle;\n",
       "    }\n",
       "\n",
       "    .dataframe tbody tr th {\n",
       "        vertical-align: top;\n",
       "    }\n",
       "\n",
       "    .dataframe thead th {\n",
       "        text-align: right;\n",
       "    }\n",
       "</style>\n",
       "<table border=\"1\" class=\"dataframe\">\n",
       "  <thead>\n",
       "    <tr style=\"text-align: right;\">\n",
       "      <th></th>\n",
       "      <th>LEXICON</th>\n",
       "      <th>POS</th>\n",
       "      <th>RIGHT</th>\n",
       "      <th>LEFT</th>\n",
       "      <th>HAND_DIFF</th>\n",
       "      <th>MOV_ID</th>\n",
       "      <th>HAND</th>\n",
       "      <th>PLACE</th>\n",
       "    </tr>\n",
       "  </thead>\n",
       "  <tbody>\n",
       "    <tr>\n",
       "      <th>189</th>\n",
       "      <td>AUT_0</td>\n",
       "      <td></td>\n",
       "      <td>1.162273</td>\n",
       "      <td>2.985454</td>\n",
       "      <td>-1.823181</td>\n",
       "      <td>1</td>\n",
       "      <td>17</td>\n",
       "      <td>23</td>\n",
       "    </tr>\n",
       "    <tr>\n",
       "      <th>2559</th>\n",
       "      <td>TAVA_0</td>\n",
       "      <td>Ad</td>\n",
       "      <td>0.395400</td>\n",
       "      <td>1.594269</td>\n",
       "      <td>-1.198869</td>\n",
       "      <td>1</td>\n",
       "      <td>11</td>\n",
       "      <td>23</td>\n",
       "    </tr>\n",
       "    <tr>\n",
       "      <th>3048</th>\n",
       "      <td>ÇAMAŞIR_0</td>\n",
       "      <td>Ad</td>\n",
       "      <td>0.684140</td>\n",
       "      <td>1.833739</td>\n",
       "      <td>-1.149600</td>\n",
       "      <td>1</td>\n",
       "      <td>25</td>\n",
       "      <td>23</td>\n",
       "    </tr>\n",
       "    <tr>\n",
       "      <th>1121</th>\n",
       "      <td>GECIKMEK_0</td>\n",
       "      <td>Eylem</td>\n",
       "      <td>0.498260</td>\n",
       "      <td>1.567909</td>\n",
       "      <td>-1.069648</td>\n",
       "      <td>1</td>\n",
       "      <td>28</td>\n",
       "      <td>21</td>\n",
       "    </tr>\n",
       "    <tr>\n",
       "      <th>3286</th>\n",
       "      <td>İLKÖĞRETIM_0</td>\n",
       "      <td>Ad</td>\n",
       "      <td>0.679440</td>\n",
       "      <td>1.728644</td>\n",
       "      <td>-1.049204</td>\n",
       "      <td>1</td>\n",
       "      <td>17</td>\n",
       "      <td>23</td>\n",
       "    </tr>\n",
       "    <tr>\n",
       "      <th>2333</th>\n",
       "      <td>SAĞ_1</td>\n",
       "      <td>Ad</td>\n",
       "      <td>0.254355</td>\n",
       "      <td>1.278737</td>\n",
       "      <td>-1.024383</td>\n",
       "      <td>2</td>\n",
       "      <td>25</td>\n",
       "      <td>20</td>\n",
       "    </tr>\n",
       "    <tr>\n",
       "      <th>2227</th>\n",
       "      <td>REFAKAT ETMEK_0</td>\n",
       "      <td>Eylem</td>\n",
       "      <td>0.701901</td>\n",
       "      <td>1.668431</td>\n",
       "      <td>-0.966530</td>\n",
       "      <td>1</td>\n",
       "      <td>26</td>\n",
       "      <td>21</td>\n",
       "    </tr>\n",
       "    <tr>\n",
       "      <th>2785</th>\n",
       "      <td>VARDIYA_0</td>\n",
       "      <td>Ad</td>\n",
       "      <td>0.694901</td>\n",
       "      <td>1.593595</td>\n",
       "      <td>-0.898694</td>\n",
       "      <td>1</td>\n",
       "      <td>8</td>\n",
       "      <td>1</td>\n",
       "    </tr>\n",
       "    <tr>\n",
       "      <th>3037</th>\n",
       "      <td>ZORLAMAK_1</td>\n",
       "      <td>Ad</td>\n",
       "      <td>0.511102</td>\n",
       "      <td>1.375398</td>\n",
       "      <td>-0.864296</td>\n",
       "      <td>2</td>\n",
       "      <td>11</td>\n",
       "      <td>1</td>\n",
       "    </tr>\n",
       "    <tr>\n",
       "      <th>1030</th>\n",
       "      <td>EZIYET_0</td>\n",
       "      <td>Ad</td>\n",
       "      <td>0.794194</td>\n",
       "      <td>1.653212</td>\n",
       "      <td>-0.859018</td>\n",
       "      <td>1</td>\n",
       "      <td>19</td>\n",
       "      <td>26</td>\n",
       "    </tr>\n",
       "    <tr>\n",
       "      <th>1825</th>\n",
       "      <td>MARANGOZ_0</td>\n",
       "      <td>Ad</td>\n",
       "      <td>0.524368</td>\n",
       "      <td>1.380964</td>\n",
       "      <td>-0.856597</td>\n",
       "      <td>1</td>\n",
       "      <td>25</td>\n",
       "      <td>1</td>\n",
       "    </tr>\n",
       "    <tr>\n",
       "      <th>645</th>\n",
       "      <td>CEZA KESMEK, CEZA VERMEK_0</td>\n",
       "      <td>Eylem</td>\n",
       "      <td>0.762742</td>\n",
       "      <td>1.574286</td>\n",
       "      <td>-0.811545</td>\n",
       "      <td>1</td>\n",
       "      <td>5</td>\n",
       "      <td>24</td>\n",
       "    </tr>\n",
       "    <tr>\n",
       "      <th>1341</th>\n",
       "      <td>HAYRAN_0</td>\n",
       "      <td>Sıfat</td>\n",
       "      <td>0.674055</td>\n",
       "      <td>1.483995</td>\n",
       "      <td>-0.809940</td>\n",
       "      <td>2</td>\n",
       "      <td>31</td>\n",
       "      <td>1</td>\n",
       "    </tr>\n",
       "    <tr>\n",
       "      <th>1527</th>\n",
       "      <td>KART _0</td>\n",
       "      <td>Ad</td>\n",
       "      <td>0.671420</td>\n",
       "      <td>1.469187</td>\n",
       "      <td>-0.797767</td>\n",
       "      <td>3</td>\n",
       "      <td>20</td>\n",
       "      <td>21</td>\n",
       "    </tr>\n",
       "    <tr>\n",
       "      <th>2525</th>\n",
       "      <td>TAKIP_0</td>\n",
       "      <td>Ad</td>\n",
       "      <td>0.667568</td>\n",
       "      <td>1.462341</td>\n",
       "      <td>-0.794773</td>\n",
       "      <td>1</td>\n",
       "      <td>17</td>\n",
       "      <td>1</td>\n",
       "    </tr>\n",
       "  </tbody>\n",
       "</table>\n",
       "</div>"
      ],
      "text/plain": [
       "                         LEXICON     POS     RIGHT      LEFT  HAND_DIFF  \\\n",
       "189                        AUT_0          1.162273  2.985454  -1.823181   \n",
       "2559                      TAVA_0     Ad   0.395400  1.594269  -1.198869   \n",
       "3048                   ÇAMAŞIR_0     Ad   0.684140  1.833739  -1.149600   \n",
       "1121                  GECIKMEK_0  Eylem   0.498260  1.567909  -1.069648   \n",
       "3286                İLKÖĞRETIM_0     Ad   0.679440  1.728644  -1.049204   \n",
       "2333                       SAĞ_1     Ad   0.254355  1.278737  -1.024383   \n",
       "2227             REFAKAT ETMEK_0  Eylem   0.701901  1.668431  -0.966530   \n",
       "2785                   VARDIYA_0     Ad   0.694901  1.593595  -0.898694   \n",
       "3037                  ZORLAMAK_1     Ad   0.511102  1.375398  -0.864296   \n",
       "1030                    EZIYET_0     Ad   0.794194  1.653212  -0.859018   \n",
       "1825                  MARANGOZ_0     Ad   0.524368  1.380964  -0.856597   \n",
       "645   CEZA KESMEK, CEZA VERMEK_0  Eylem   0.762742  1.574286  -0.811545   \n",
       "1341                    HAYRAN_0  Sıfat   0.674055  1.483995  -0.809940   \n",
       "1527                     KART _0     Ad   0.671420  1.469187  -0.797767   \n",
       "2525                     TAKIP_0     Ad   0.667568  1.462341  -0.794773   \n",
       "\n",
       "      MOV_ID HAND PLACE  \n",
       "189        1   17    23  \n",
       "2559       1   11    23  \n",
       "3048       1   25    23  \n",
       "1121       1   28    21  \n",
       "3286       1   17    23  \n",
       "2333       2   25    20  \n",
       "2227       1   26    21  \n",
       "2785       1    8     1  \n",
       "3037       2   11     1  \n",
       "1030       1   19    26  \n",
       "1825       1   25     1  \n",
       "645        1    5    24  \n",
       "1341       2   31     1  \n",
       "1527       3   20    21  \n",
       "2525       1   17     1  "
      ]
     },
     "execution_count": 47,
     "metadata": {},
     "output_type": "execute_result"
    }
   ],
   "source": [
    "DFS_ISOLATED_NONZERO_LEFT.sort_values(by='HAND_DIFF', ascending=True).head(15)"
   ]
  },
  {
   "cell_type": "code",
   "execution_count": 41,
   "metadata": {},
   "outputs": [],
   "source": [
    "import os\n",
    "\n",
    "os.mkdir('left')"
   ]
  },
  {
   "cell_type": "code",
   "execution_count": 45,
   "metadata": {},
   "outputs": [],
   "source": [
    "TOP_200 = DFS_ISOLATED_NONZERO_LEFT.sort_values(by='HAND_DIFF', ascending=True).head(200).LEXICON.to_list()\n",
    "for lex in TOP_200:\n",
    "    os.system(f'cp \"../../data/corpus/{lex}.mp4\" -t left/')    \n"
   ]
  },
  {
   "cell_type": "code",
   "execution_count": 33,
   "metadata": {},
   "outputs": [
    {
     "data": {
      "text/html": [
       "<div>\n",
       "<style scoped>\n",
       "    .dataframe tbody tr th:only-of-type {\n",
       "        vertical-align: middle;\n",
       "    }\n",
       "\n",
       "    .dataframe tbody tr th {\n",
       "        vertical-align: top;\n",
       "    }\n",
       "\n",
       "    .dataframe thead th {\n",
       "        text-align: right;\n",
       "    }\n",
       "</style>\n",
       "<table border=\"1\" class=\"dataframe\">\n",
       "  <thead>\n",
       "    <tr style=\"text-align: right;\">\n",
       "      <th></th>\n",
       "      <th>LEXICON</th>\n",
       "      <th>POS</th>\n",
       "      <th>RIGHT</th>\n",
       "      <th>LEFT</th>\n",
       "      <th>HAND_DIFF</th>\n",
       "      <th>MOV_ID</th>\n",
       "      <th>HAND</th>\n",
       "      <th>PLACE</th>\n",
       "    </tr>\n",
       "  </thead>\n",
       "  <tbody>\n",
       "    <tr>\n",
       "      <th>1861</th>\n",
       "      <td>MEMNUN_0</td>\n",
       "      <td>Sıfat</td>\n",
       "      <td>0.533522</td>\n",
       "      <td>0.533268</td>\n",
       "      <td>0.000254</td>\n",
       "      <td>1</td>\n",
       "      <td>5</td>\n",
       "      <td>14</td>\n",
       "    </tr>\n",
       "    <tr>\n",
       "      <th>771</th>\n",
       "      <td>DIKKAT ETMEK_0</td>\n",
       "      <td>Eylem</td>\n",
       "      <td>0.790913</td>\n",
       "      <td>0.789956</td>\n",
       "      <td>0.000957</td>\n",
       "      <td>1</td>\n",
       "      <td>20</td>\n",
       "      <td>8</td>\n",
       "    </tr>\n",
       "    <tr>\n",
       "      <th>2195</th>\n",
       "      <td>PRATIK_0</td>\n",
       "      <td>Sıfat</td>\n",
       "      <td>1.219684</td>\n",
       "      <td>1.218586</td>\n",
       "      <td>0.001098</td>\n",
       "      <td>1</td>\n",
       "      <td>11</td>\n",
       "      <td>1</td>\n",
       "    </tr>\n",
       "    <tr>\n",
       "      <th>2414</th>\n",
       "      <td>SIRA _0</td>\n",
       "      <td>Ad</td>\n",
       "      <td>0.809407</td>\n",
       "      <td>0.808213</td>\n",
       "      <td>0.001194</td>\n",
       "      <td>2</td>\n",
       "      <td>19</td>\n",
       "      <td>1</td>\n",
       "    </tr>\n",
       "    <tr>\n",
       "      <th>1965</th>\n",
       "      <td>NAMAZ_0</td>\n",
       "      <td>Ad</td>\n",
       "      <td>0.718088</td>\n",
       "      <td>0.716674</td>\n",
       "      <td>0.001413</td>\n",
       "      <td>1</td>\n",
       "      <td>19</td>\n",
       "      <td>7</td>\n",
       "    </tr>\n",
       "    <tr>\n",
       "      <th>...</th>\n",
       "      <td>...</td>\n",
       "      <td>...</td>\n",
       "      <td>...</td>\n",
       "      <td>...</td>\n",
       "      <td>...</td>\n",
       "      <td>...</td>\n",
       "      <td>...</td>\n",
       "      <td>...</td>\n",
       "    </tr>\n",
       "    <tr>\n",
       "      <th>450</th>\n",
       "      <td>BILEME_0</td>\n",
       "      <td>Ad</td>\n",
       "      <td>1.666697</td>\n",
       "      <td>0.511135</td>\n",
       "      <td>1.155563</td>\n",
       "      <td>1</td>\n",
       "      <td>28</td>\n",
       "      <td>23</td>\n",
       "    </tr>\n",
       "    <tr>\n",
       "      <th>867</th>\n",
       "      <td>DÖNMEK_1</td>\n",
       "      <td>Eylem</td>\n",
       "      <td>1.931392</td>\n",
       "      <td>0.755349</td>\n",
       "      <td>1.176043</td>\n",
       "      <td>1</td>\n",
       "      <td>22</td>\n",
       "      <td>1</td>\n",
       "    </tr>\n",
       "    <tr>\n",
       "      <th>693</th>\n",
       "      <td>DAVUL_0</td>\n",
       "      <td>Ad</td>\n",
       "      <td>1.782061</td>\n",
       "      <td>0.535796</td>\n",
       "      <td>1.246264</td>\n",
       "      <td>1</td>\n",
       "      <td>11</td>\n",
       "      <td>1</td>\n",
       "    </tr>\n",
       "    <tr>\n",
       "      <th>2393</th>\n",
       "      <td>SIKMAK_1</td>\n",
       "      <td>Eylem</td>\n",
       "      <td>1.749761</td>\n",
       "      <td>0.310830</td>\n",
       "      <td>1.438931</td>\n",
       "      <td>2</td>\n",
       "      <td>16</td>\n",
       "      <td>26</td>\n",
       "    </tr>\n",
       "    <tr>\n",
       "      <th>449</th>\n",
       "      <td>BILARDO_0</td>\n",
       "      <td>Ad</td>\n",
       "      <td>2.492681</td>\n",
       "      <td>0.872910</td>\n",
       "      <td>1.619771</td>\n",
       "      <td>1</td>\n",
       "      <td>11</td>\n",
       "      <td>23</td>\n",
       "    </tr>\n",
       "  </tbody>\n",
       "</table>\n",
       "<p>832 rows × 8 columns</p>\n",
       "</div>"
      ],
      "text/plain": [
       "             LEXICON     POS     RIGHT      LEFT  HAND_DIFF  MOV_ID HAND PLACE\n",
       "1861        MEMNUN_0  Sıfat   0.533522  0.533268   0.000254       1    5    14\n",
       "771   DIKKAT ETMEK_0  Eylem   0.790913  0.789956   0.000957       1   20     8\n",
       "2195        PRATIK_0  Sıfat   1.219684  1.218586   0.001098       1   11     1\n",
       "2414         SIRA _0     Ad   0.809407  0.808213   0.001194       2   19     1\n",
       "1965         NAMAZ_0     Ad   0.718088  0.716674   0.001413       1   19     7\n",
       "...              ...     ...       ...       ...        ...     ...  ...   ...\n",
       "450         BILEME_0     Ad   1.666697  0.511135   1.155563       1   28    23\n",
       "867         DÖNMEK_1  Eylem   1.931392  0.755349   1.176043       1   22     1\n",
       "693          DAVUL_0     Ad   1.782061  0.535796   1.246264       1   11     1\n",
       "2393        SIKMAK_1  Eylem   1.749761  0.310830   1.438931       2   16    26\n",
       "449        BILARDO_0     Ad   2.492681  0.872910   1.619771       1   11    23\n",
       "\n",
       "[832 rows x 8 columns]"
      ]
     },
     "execution_count": 33,
     "metadata": {},
     "output_type": "execute_result"
    }
   ],
   "source": [
    "DFS_ISOLATED_NONZERO_RIGHT\n",
    "# FUTURE WORK: CAN WE PREDICT PART-OF-SPEECH FROM SIGN DIFF \n",
    "# CHECK SIGN ANNOTATION (SIGNLAB) - MOUTHING VS MOUTH GESTURE - "
   ]
  },
  {
   "cell_type": "code",
   "execution_count": 37,
   "metadata": {},
   "outputs": [
    {
     "data": {
      "text/plain": [
       "<Axes: >"
      ]
     },
     "execution_count": 37,
     "metadata": {},
     "output_type": "execute_result"
    },
    {
     "data": {
      "image/png": "[encoded data removed]",
      "text/plain": [
       "<Figure size 1440x360 with 1 Axes>"
      ]
     },
     "metadata": {
      "needs_background": "light"
     },
     "output_type": "display_data"
    }
   ],
   "source": [
    "topK = 100\n",
    "# TODO: Check why adjectives are more symmetric than less (LOOK AT THE VIDEOS)\n",
    "pd.DataFrame({\n",
    "    'MORE_SYMMETRIC': DFS_ISOLATED_NONZERO_RIGHT.head(topK).POS.value_counts(),\n",
    "    'LESS_SYMMETRIC': DFS_ISOLATED_NONZERO_RIGHT.tail(topK).POS.value_counts(),\n",
    "}).plot(kind='area', figsize=(20,5))"
   ]
  },
  {
   "cell_type": "code",
   "execution_count": 150,
   "metadata": {},
   "outputs": [
    {
     "data": {
      "text/plain": [
       "<Axes: >"
      ]
     },
     "execution_count": 150,
     "metadata": {},
     "output_type": "execute_result"
    },
    {
     "data": {
      "image/png": "[encoded data removed]",
      "text/plain": [
       "<Figure size 1440x360 with 1 Axes>"
      ]
     },
     "metadata": {
      "needs_background": "light"
     },
     "output_type": "display_data"
    }
   ],
   "source": [
    "topK = 100\n",
    "pd.DataFrame({\n",
    "    'MORE_SYMMETRIC': DFS_ISOLATED_NONZERO_LEFT.head(topK).POS.value_counts(),\n",
    "    'LESS_SYMMETRIC': DFS_ISOLATED_NONZERO_LEFT.tail(topK).POS.value_counts(),\n",
    "}).plot(kind='area', figsize=(20,5))"
   ]
  },
  {
   "cell_type": "code",
   "execution_count": 152,
   "metadata": {},
   "outputs": [
    {
     "data": {
      "text/plain": [
       "<Axes: >"
      ]
     },
     "execution_count": 152,
     "metadata": {},
     "output_type": "execute_result"
    },
    {
     "data": {
      "image/png": "[encoded data removed]",
      "text/plain": [
       "<Figure size 1440x360 with 1 Axes>"
      ]
     },
     "metadata": {
      "needs_background": "light"
     },
     "output_type": "display_data"
    }
   ],
   "source": [
    "topK = 100\n",
    "pd.DataFrame({\n",
    "    'MORE_SYMMETRIC': DFS_ISOLATED_NONZERO_RIGHT.head(topK).POS.value_counts() + DFS_ISOLATED_NONZERO_LEFT.head(topK).POS.value_counts(),\n",
    "    'LESS_SYMMETRIC': DFS_ISOLATED_NONZERO_RIGHT.tail(topK).POS.value_counts() + DFS_ISOLATED_NONZERO_LEFT.tail(topK).POS.value_counts(),\n",
    "}).plot(kind='area', figsize=(20,5))"
   ]
  },
  {
   "cell_type": "code",
   "execution_count": null,
   "metadata": {},
   "outputs": [],
   "source": []
  }
 ],
 "metadata": {
  "kernelspec": {
   "display_name": "base",
   "language": "python",
   "name": "python3"
  },
  "language_info": {
   "codemirror_mode": {
    "name": "ipython",
    "version": 3
   },
   "file_extension": ".py",
   "mimetype": "text/x-python",
   "name": "python",
   "nbconvert_exporter": "python",
   "pygments_lexer": "ipython3",
   "version": "3.9.7"
  }
 },
 "nbformat": 4,
 "nbformat_minor": 2
}
